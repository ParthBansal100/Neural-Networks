{
  "nbformat": 4,
  "nbformat_minor": 0,
  "metadata": {
    "colab": {
      "provenance": [],
      "gpuType": "T4"
    },
    "kernelspec": {
      "name": "python3",
      "display_name": "Python 3"
    },
    "language_info": {
      "name": "python"
    },
    "accelerator": "GPU"
  },
  "cells": [
    {
      "cell_type": "markdown",
      "source": [
        "Libraries"
      ],
      "metadata": {
        "id": "KNvHhrN3ywUq"
      }
    },
    {
      "cell_type": "code",
      "execution_count": null,
      "metadata": {
        "colab": {
          "base_uri": "https://localhost:8080/"
        },
        "id": "ULRg-LfipuiU",
        "outputId": "d0550c37-e428-4d36-fae5-57001e751a1a"
      },
      "outputs": [
        {
          "output_type": "stream",
          "name": "stdout",
          "text": [
            "Collecting transformers\n",
            "  Downloading transformers-4.30.2-py3-none-any.whl (7.2 MB)\n",
            "\u001b[2K     \u001b[90m━━━━━━━━━━━━━━━━━━━━━━━━━━━━━━━━━━━━━━━━\u001b[0m \u001b[32m7.2/7.2 MB\u001b[0m \u001b[31m53.5 MB/s\u001b[0m eta \u001b[36m0:00:00\u001b[0m\n",
            "\u001b[?25hRequirement already satisfied: filelock in /usr/local/lib/python3.10/dist-packages (from transformers) (3.12.2)\n",
            "Collecting huggingface-hub<1.0,>=0.14.1 (from transformers)\n",
            "  Downloading huggingface_hub-0.15.1-py3-none-any.whl (236 kB)\n",
            "\u001b[2K     \u001b[90m━━━━━━━━━━━━━━━━━━━━━━━━━━━━━━━━━━━━━━\u001b[0m \u001b[32m236.8/236.8 kB\u001b[0m \u001b[31m22.4 MB/s\u001b[0m eta \u001b[36m0:00:00\u001b[0m\n",
            "\u001b[?25hRequirement already satisfied: numpy>=1.17 in /usr/local/lib/python3.10/dist-packages (from transformers) (1.22.4)\n",
            "Requirement already satisfied: packaging>=20.0 in /usr/local/lib/python3.10/dist-packages (from transformers) (23.1)\n",
            "Requirement already satisfied: pyyaml>=5.1 in /usr/local/lib/python3.10/dist-packages (from transformers) (6.0)\n",
            "Requirement already satisfied: regex!=2019.12.17 in /usr/local/lib/python3.10/dist-packages (from transformers) (2022.10.31)\n",
            "Requirement already satisfied: requests in /usr/local/lib/python3.10/dist-packages (from transformers) (2.27.1)\n",
            "Collecting tokenizers!=0.11.3,<0.14,>=0.11.1 (from transformers)\n",
            "  Downloading tokenizers-0.13.3-cp310-cp310-manylinux_2_17_x86_64.manylinux2014_x86_64.whl (7.8 MB)\n",
            "\u001b[2K     \u001b[90m━━━━━━━━━━━━━━━━━━━━━━━━━━━━━━━━━━━━━━━━\u001b[0m \u001b[32m7.8/7.8 MB\u001b[0m \u001b[31m83.4 MB/s\u001b[0m eta \u001b[36m0:00:00\u001b[0m\n",
            "\u001b[?25hCollecting safetensors>=0.3.1 (from transformers)\n",
            "  Downloading safetensors-0.3.1-cp310-cp310-manylinux_2_17_x86_64.manylinux2014_x86_64.whl (1.3 MB)\n",
            "\u001b[2K     \u001b[90m━━━━━━━━━━━━━━━━━━━━━━━━━━━━━━━━━━━━━━━━\u001b[0m \u001b[32m1.3/1.3 MB\u001b[0m \u001b[31m62.0 MB/s\u001b[0m eta \u001b[36m0:00:00\u001b[0m\n",
            "\u001b[?25hRequirement already satisfied: tqdm>=4.27 in /usr/local/lib/python3.10/dist-packages (from transformers) (4.65.0)\n",
            "Requirement already satisfied: fsspec in /usr/local/lib/python3.10/dist-packages (from huggingface-hub<1.0,>=0.14.1->transformers) (2023.6.0)\n",
            "Requirement already satisfied: typing-extensions>=3.7.4.3 in /usr/local/lib/python3.10/dist-packages (from huggingface-hub<1.0,>=0.14.1->transformers) (4.6.3)\n",
            "Requirement already satisfied: urllib3<1.27,>=1.21.1 in /usr/local/lib/python3.10/dist-packages (from requests->transformers) (1.26.16)\n",
            "Requirement already satisfied: certifi>=2017.4.17 in /usr/local/lib/python3.10/dist-packages (from requests->transformers) (2023.5.7)\n",
            "Requirement already satisfied: charset-normalizer~=2.0.0 in /usr/local/lib/python3.10/dist-packages (from requests->transformers) (2.0.12)\n",
            "Requirement already satisfied: idna<4,>=2.5 in /usr/local/lib/python3.10/dist-packages (from requests->transformers) (3.4)\n",
            "Installing collected packages: tokenizers, safetensors, huggingface-hub, transformers\n",
            "Successfully installed huggingface-hub-0.15.1 safetensors-0.3.1 tokenizers-0.13.3 transformers-4.30.2\n"
          ]
        }
      ],
      "source": [
        "!pip install transformers"
      ]
    },
    {
      "cell_type": "code",
      "source": [
        "import torch\n",
        "from torch.utils.data import DataLoader, SequentialSampler, RandomSampler, Dataset, random_split\n",
        "import numpy as np\n",
        "import matplotlib.pyplot as plt\n",
        "import matplotlib.image as img\n",
        "import torch.nn as nn\n",
        "import torch.nn.functional as F\n",
        "import os\n",
        "import pandas as pd\n",
        "import shutil\n",
        "import random\n",
        "from torchvision import datasets, transforms\n",
        "#from tqdm import tqdm, trange\n",
        "from sklearn.metrics import f1_score, precision_score, recall_score\n",
        "from transformers import get_linear_schedule_with_warmup"
      ],
      "metadata": {
        "id": "0RaA_IUauLPF"
      },
      "execution_count": null,
      "outputs": []
    },
    {
      "cell_type": "markdown",
      "source": [
        "**download dataset**"
      ],
      "metadata": {
        "id": "yGi3mVpuy57O"
      }
    },
    {
      "cell_type": "code",
      "source": [
        "train_tfms = transforms.Compose([transforms.ToTensor(),\n",
        "                         transforms.RandomRotation(15)])"
      ],
      "metadata": {
        "id": "1YzimvuhFxfc"
      },
      "execution_count": null,
      "outputs": []
    },
    {
      "cell_type": "code",
      "source": [
        "dataset=datasets.MNIST(root=\"pics\",\n",
        "                              train=True,\n",
        "                              download=True,\n",
        "                              transform=train_tfms)\n",
        "\n",
        "test_dataset=datasets.MNIST(root=\"pics\",\n",
        "                              train=False,\n",
        "                              download=True,\n",
        "                              transform=transforms.ToTensor())"
      ],
      "metadata": {
        "colab": {
          "base_uri": "https://localhost:8080/"
        },
        "id": "aOPkugRyuRVj",
        "outputId": "2f989bf2-5ccf-45c5-f23f-4eef3a0d6b90"
      },
      "execution_count": null,
      "outputs": [
        {
          "output_type": "stream",
          "name": "stdout",
          "text": [
            "Downloading http://yann.lecun.com/exdb/mnist/train-images-idx3-ubyte.gz\n",
            "Downloading http://yann.lecun.com/exdb/mnist/train-images-idx3-ubyte.gz to pics/MNIST/raw/train-images-idx3-ubyte.gz\n"
          ]
        },
        {
          "output_type": "stream",
          "name": "stderr",
          "text": [
            "100%|██████████| 9912422/9912422 [00:00<00:00, 84962482.77it/s]\n"
          ]
        },
        {
          "output_type": "stream",
          "name": "stdout",
          "text": [
            "Extracting pics/MNIST/raw/train-images-idx3-ubyte.gz to pics/MNIST/raw\n",
            "\n",
            "Downloading http://yann.lecun.com/exdb/mnist/train-labels-idx1-ubyte.gz\n",
            "Downloading http://yann.lecun.com/exdb/mnist/train-labels-idx1-ubyte.gz to pics/MNIST/raw/train-labels-idx1-ubyte.gz\n"
          ]
        },
        {
          "output_type": "stream",
          "name": "stderr",
          "text": [
            "100%|██████████| 28881/28881 [00:00<00:00, 40084610.80it/s]\n"
          ]
        },
        {
          "output_type": "stream",
          "name": "stdout",
          "text": [
            "Extracting pics/MNIST/raw/train-labels-idx1-ubyte.gz to pics/MNIST/raw\n",
            "\n",
            "Downloading http://yann.lecun.com/exdb/mnist/t10k-images-idx3-ubyte.gz\n",
            "Downloading http://yann.lecun.com/exdb/mnist/t10k-images-idx3-ubyte.gz to pics/MNIST/raw/t10k-images-idx3-ubyte.gz\n"
          ]
        },
        {
          "output_type": "stream",
          "name": "stderr",
          "text": [
            "100%|██████████| 1648877/1648877 [00:00<00:00, 21100538.50it/s]\n"
          ]
        },
        {
          "output_type": "stream",
          "name": "stdout",
          "text": [
            "Extracting pics/MNIST/raw/t10k-images-idx3-ubyte.gz to pics/MNIST/raw\n",
            "\n",
            "Downloading http://yann.lecun.com/exdb/mnist/t10k-labels-idx1-ubyte.gz\n",
            "Downloading http://yann.lecun.com/exdb/mnist/t10k-labels-idx1-ubyte.gz to pics/MNIST/raw/t10k-labels-idx1-ubyte.gz\n"
          ]
        },
        {
          "output_type": "stream",
          "name": "stderr",
          "text": [
            "100%|██████████| 4542/4542 [00:00<00:00, 7392521.83it/s]\n"
          ]
        },
        {
          "output_type": "stream",
          "name": "stdout",
          "text": [
            "Extracting pics/MNIST/raw/t10k-labels-idx1-ubyte.gz to pics/MNIST/raw\n",
            "\n"
          ]
        }
      ]
    },
    {
      "cell_type": "markdown",
      "source": [
        "Dataset split"
      ],
      "metadata": {
        "id": "tqHF-e-b0kjl"
      }
    },
    {
      "cell_type": "code",
      "source": [
        "random_seed = 42\n",
        "torch.manual_seed(random_seed);"
      ],
      "metadata": {
        "id": "G6k_-YXI3ovY"
      },
      "execution_count": null,
      "outputs": []
    },
    {
      "cell_type": "code",
      "source": [
        "val_size = 10000\n",
        "train_size = len(dataset) - val_size\n",
        "\n",
        "train_ds, val_ds = random_split(dataset, [train_size, val_size])\n",
        "len(train_ds), len(val_ds)"
      ],
      "metadata": {
        "colab": {
          "base_uri": "https://localhost:8080/"
        },
        "id": "XdZQ1kIAzbwc",
        "outputId": "eed583ed-1b07-45fc-ac5f-27fea82f9785"
      },
      "execution_count": null,
      "outputs": [
        {
          "output_type": "execute_result",
          "data": {
            "text/plain": [
              "(50000, 10000)"
            ]
          },
          "metadata": {},
          "execution_count": 7
        }
      ]
    },
    {
      "cell_type": "markdown",
      "source": [
        "Transforms-with normalization"
      ],
      "metadata": {
        "id": "fSobCNPJy9jT"
      }
    },
    {
      "cell_type": "markdown",
      "source": [
        "dataset playing"
      ],
      "metadata": {
        "id": "pAMR0oZX1Nsh"
      }
    },
    {
      "cell_type": "code",
      "source": [
        "len(test_dataset)"
      ],
      "metadata": {
        "colab": {
          "base_uri": "https://localhost:8080/"
        },
        "id": "T5H212LayDR7",
        "outputId": "fff6ede6-ed4a-46a4-c989-fcf1dc6f3dd4"
      },
      "execution_count": null,
      "outputs": [
        {
          "output_type": "execute_result",
          "data": {
            "text/plain": [
              "10000"
            ]
          },
          "metadata": {},
          "execution_count": 7
        }
      ]
    },
    {
      "cell_type": "code",
      "source": [
        "image,label=train_ds[0]\n",
        "image.shape"
      ],
      "metadata": {
        "colab": {
          "base_uri": "https://localhost:8080/"
        },
        "id": "GP9Di9Jbnurt",
        "outputId": "942bcbd3-cf21-48a5-8bcb-a59559443911"
      },
      "execution_count": null,
      "outputs": [
        {
          "output_type": "execute_result",
          "data": {
            "text/plain": [
              "torch.Size([1, 28, 28])"
            ]
          },
          "metadata": {},
          "execution_count": 8
        }
      ]
    },
    {
      "cell_type": "code",
      "source": [
        "train_ds[0][0].shape"
      ],
      "metadata": {
        "colab": {
          "base_uri": "https://localhost:8080/"
        },
        "id": "GB8LACXHzt2s",
        "outputId": "abb203fb-80e7-4d94-898f-2cbee74da226"
      },
      "execution_count": null,
      "outputs": [
        {
          "output_type": "execute_result",
          "data": {
            "text/plain": [
              "torch.Size([1, 28, 28])"
            ]
          },
          "metadata": {},
          "execution_count": 11
        }
      ]
    },
    {
      "cell_type": "code",
      "source": [
        "plt.imshow(image.permute(1,2,0))"
      ],
      "metadata": {
        "colab": {
          "base_uri": "https://localhost:8080/",
          "height": 448
        },
        "id": "rvdrJjTeoesJ",
        "outputId": "4dee1651-67ae-4dc2-a525-73c247220914"
      },
      "execution_count": null,
      "outputs": [
        {
          "output_type": "execute_result",
          "data": {
            "text/plain": [
              "<matplotlib.image.AxesImage at 0x7f455f6c8430>"
            ]
          },
          "metadata": {},
          "execution_count": 9
        },
        {
          "output_type": "display_data",
          "data": {
            "text/plain": [
              "<Figure size 640x480 with 1 Axes>"
            ],
            "image/png": "[encoded data removed]"
          },
          "metadata": {}
        }
      ]
    },
    {
      "cell_type": "code",
      "source": [
        "def show_example(img, label):\n",
        "    print('Label: ',label)\n",
        "    plt.imshow(img.permute(1, 2, 0),cmap='gray_r')"
      ],
      "metadata": {
        "id": "IUEv_-Opp_5o"
      },
      "execution_count": null,
      "outputs": []
    },
    {
      "cell_type": "code",
      "source": [
        "show_example(*train_ds[1000])"
      ],
      "metadata": {
        "colab": {
          "base_uri": "https://localhost:8080/",
          "height": 448
        },
        "id": "I17CVbjjqDk-",
        "outputId": "115f0d8f-9ffb-441e-80e9-314e6b653f19"
      },
      "execution_count": null,
      "outputs": [
        {
          "output_type": "stream",
          "name": "stdout",
          "text": [
            "Label:  1\n"
          ]
        },
        {
          "output_type": "display_data",
          "data": {
            "text/plain": [
              "<Figure size 640x480 with 1 Axes>"
            ],
            "image/png": "[encoded data removed]"
          },
          "metadata": {}
        }
      ]
    },
    {
      "cell_type": "markdown",
      "source": [
        "Dataloader"
      ],
      "metadata": {
        "id": "hfuvb7620fFX"
      }
    },
    {
      "cell_type": "code",
      "source": [
        "#arguments\n",
        "train_batch_size_1=32\n",
        "train_batch_size_2=64\n",
        "train_batch_size_3=128\n",
        "train_batch_size_4=256\n",
        "\n",
        "val_batch_size=512\n",
        "test_batch_size=512\n",
        "input_size=28*28\n",
        "classes=10"
      ],
      "metadata": {
        "id": "XRIhlalRvFt-"
      },
      "execution_count": null,
      "outputs": []
    },
    {
      "cell_type": "code",
      "source": [
        "train_loader=DataLoader(train_ds,train_batch_size_2,shuffle=True)\n",
        "# train_loader_2=DataLoader(train_ds,train_batch_size_2,shuffle=True)\n",
        "# train_loader_3=DataLoader(train_ds,train_batch_size_3,shuffle=True)\n",
        "# train_loader_4=DataLoader(train_ds,train_batch_size_4,shuffle=True)\n",
        "\n",
        "val_loader=DataLoader(val_ds,val_batch_size)\n",
        "test_loader=DataLoader(test_dataset,val_batch_size)"
      ],
      "metadata": {
        "id": "3ZfgYcGRuuNq"
      },
      "execution_count": null,
      "outputs": []
    },
    {
      "cell_type": "markdown",
      "source": [
        "Arguments"
      ],
      "metadata": {
        "id": "dJLoaAqO0atZ"
      }
    },
    {
      "cell_type": "code",
      "source": [
        "from torchvision.utils import make_grid\n",
        "\n",
        "def show_batch(dl):\n",
        "    for images, labels in dl:\n",
        "        fig, ax = plt.subplots(figsize=(12, 6))\n",
        "        ax.set_xticks([]); ax.set_yticks([])\n",
        "        ax.imshow(make_grid(images, nrow=30).permute(1, 2, 0),cmap='gray_r')\n",
        "        break\n",
        "\n",
        "show_batch(train_loader)"
      ],
      "metadata": {
        "colab": {
          "base_uri": "https://localhost:8080/",
          "height": 131
        },
        "id": "ILtUeNRirZm3",
        "outputId": "6c3f17f0-b0fb-4e69-cf71-6ee844ff72a9"
      },
      "execution_count": null,
      "outputs": [
        {
          "output_type": "display_data",
          "data": {
            "text/plain": [
              "<Figure size 1200x600 with 1 Axes>"
            ],
            "image/png": "[encoded data removed]"
          },
          "metadata": {}
        }
      ]
    },
    {
      "cell_type": "markdown",
      "source": [],
      "metadata": {
        "id": "S4KHYnmvRllB"
      }
    },
    {
      "cell_type": "markdown",
      "source": [
        "USE GPU"
      ],
      "metadata": {
        "id": "g2MkM7lyRmRG"
      }
    },
    {
      "cell_type": "code",
      "source": [
        "torch.cuda.is_available()"
      ],
      "metadata": {
        "colab": {
          "base_uri": "https://localhost:8080/"
        },
        "id": "W8PlUgcCyJgj",
        "outputId": "a376c890-ac3c-4d22-fe62-ae55b16df847"
      },
      "execution_count": null,
      "outputs": [
        {
          "output_type": "execute_result",
          "data": {
            "text/plain": [
              "True"
            ]
          },
          "metadata": {},
          "execution_count": 15
        }
      ]
    },
    {
      "cell_type": "code",
      "source": [
        "def device_type():\n",
        "  if torch.cuda.is_available():\n",
        "    return torch.device('cuda')\n",
        "  else:\n",
        "    return torch.device('cpu')\n",
        "\n",
        "\n",
        "def to_device(data,device):#transfer to gpu\n",
        "  if isinstance(data,(list,tuple)):\n",
        "    return [to_device(x,device) for x in data]\n",
        "  return data.to(device, non_blocking= True)\n",
        "\n",
        "\n",
        "class deviceDataloader():#wrap dataloaders\n",
        "  def __init__(self,dl,device):\n",
        "    self.dl=dl\n",
        "    self.device=device\n",
        "\n",
        "  def __iter__(self):\n",
        "    for batchy in self.dl:\n",
        "      yield to_device(batchy,self.device)\n",
        "\n",
        "  def __len__(self):\n",
        "    return len(self.dl)"
      ],
      "metadata": {
        "id": "-zbGF6OkzGnl"
      },
      "execution_count": null,
      "outputs": []
    },
    {
      "cell_type": "code",
      "source": [
        "device=device_type()\n",
        "device"
      ],
      "metadata": {
        "colab": {
          "base_uri": "https://localhost:8080/"
        },
        "id": "fEBSsSAdzdi8",
        "outputId": "8421b133-8173-4dc4-df3f-64ca6a644894"
      },
      "execution_count": null,
      "outputs": [
        {
          "output_type": "execute_result",
          "data": {
            "text/plain": [
              "device(type='cuda')"
            ]
          },
          "metadata": {},
          "execution_count": 17
        }
      ]
    },
    {
      "cell_type": "code",
      "source": [
        "train_loader=deviceDataloader(train_loader,device)\n",
        "# train_loader_2=deviceDataloader(train_loader_2,device)\n",
        "# train_loader_3=deviceDataloader(train_loader_3,device)\n",
        "# train_loader_4=deviceDataloader(train_loader_4,device)\n",
        "\n",
        "val_loader=deviceDataloader(val_loader,device)\n",
        "test_loader=deviceDataloader(test_loader,device)"
      ],
      "metadata": {
        "id": "533r-aXH6Irb"
      },
      "execution_count": null,
      "outputs": []
    },
    {
      "cell_type": "markdown",
      "source": [],
      "metadata": {
        "id": "BizZCt3vSk1r"
      }
    },
    {
      "cell_type": "markdown",
      "source": [],
      "metadata": {
        "id": "zxdAxT3cSkqO"
      }
    },
    {
      "cell_type": "code",
      "source": [
        "def accuracy(outputs, labels):\n",
        "    _, preds = torch.max(outputs, dim=1)\n",
        "    return torch.tensor(torch.sum(preds == labels).item() / len(preds))\n",
        "\n",
        "class ImageClassificationBase(nn.Module):\n",
        "    def training_step(self, batch):\n",
        "        images, labels = batch\n",
        "        out = self(images)                  # Generate predictions\n",
        "        loss = F.cross_entropy(out, labels) # Calculate loss\n",
        "        acc = accuracy(out, labels)           # Calculate accuracy\n",
        "        return loss,acc\n",
        "\n",
        "    def validation_step(self, batch):\n",
        "        images, labels = batch\n",
        "        out = self(images)                    # Generate predictions\n",
        "        loss = F.cross_entropy(out, labels)   # Calculate loss\n",
        "        acc = accuracy(out, labels)           # Calculate accuracy\n",
        "        return {'val_loss': loss.detach(), 'val_acc': acc}\n",
        "\n",
        "    def validation_epoch_end(self, outputs):\n",
        "        batch_losses = [x['val_loss'] for x in outputs]\n",
        "        epoch_loss = torch.stack(batch_losses).mean()   # Combine losses\n",
        "        batch_accs = [x['val_acc'] for x in outputs]\n",
        "        epoch_acc = torch.stack(batch_accs).mean()      # Combine accuracies\n",
        "        return {'val_loss': epoch_loss.item(), 'val_acc': epoch_acc.item()}\n",
        "\n",
        "    def epoch_end(self, epoch, result):\n",
        "        print(\"Epoch [{}], train_loss: {:.4f} , train_acc: {:.4f} , val_loss: {:.4f} , val_acc: {:.4f}\".format(\n",
        "            epoch, result['train_loss'], result['train_acc'], result['val_loss'], result['val_acc']))"
      ],
      "metadata": {
        "id": "A70HUfn3RKns"
      },
      "execution_count": null,
      "outputs": []
    },
    {
      "cell_type": "code",
      "source": [
        "# def conv_block(in_channels, out_channels, pool=False):\n",
        "#     layers = [nn.Conv2d(in_channels, out_channels, kernel_size=3, padding=1),\n",
        "#               nn.BatchNorm2d(out_channels),\n",
        "#               nn.ReLU(inplace=True)]\n",
        "#     if pool: layers.append(nn.MaxPool2d(2))\n",
        "#     return nn.Sequential(*layers)\n",
        "\n",
        "class MODEL(ImageClassificationBase):\n",
        "    def __init__(self):\n",
        "        super().__init__()\n",
        "\n",
        "        self.conv1 = nn.Conv2d(in_channels=1,out_channels=12, kernel_size=3, stride=1, padding=0)#12*26*26\n",
        "        self.conv2 = nn.Conv2d(in_channels=12,out_channels=48, kernel_size=3, stride=1, padding=0)#48*24*24\n",
        "\n",
        "        self.norm=nn.BatchNorm2d(48)\n",
        "        self.act=nn.ReLU()\n",
        "\n",
        "        self.pool1 = nn.MaxPool2d(kernel_size=2,stride=2) #48*12*12\n",
        "        self.pool2 = nn.MaxPool2d(kernel_size=2,stride=2) #48*6*6\n",
        "\n",
        "        self.classifier = nn.Sequential(nn.Flatten(),\n",
        "                                        nn.Dropout(0.2),\n",
        "                                        nn.Linear(48*6*6, 10))\n",
        "\n",
        "    def forward(self, x):\n",
        "        x = self.conv1(x)\n",
        "        x = self.conv2(x)\n",
        "        x = self.norm(x)\n",
        "        x = self.act(x)\n",
        "        x = self.pool1(x)\n",
        "        x = self.pool2(x)\n",
        "        x = self.act(x)\n",
        "        x = self.classifier(x)\n",
        "        return x"
      ],
      "metadata": {
        "id": "i1jv3PnCRga8"
      },
      "execution_count": null,
      "outputs": []
    },
    {
      "cell_type": "code",
      "source": [
        "model_1 = to_device(MODEL(), device)\n",
        "model_1"
      ],
      "metadata": {
        "colab": {
          "base_uri": "https://localhost:8080/"
        },
        "id": "CtegetKg8chW",
        "outputId": "3c20d13a-5108-4240-c2e8-1fa452e3b67a"
      },
      "execution_count": null,
      "outputs": [
        {
          "output_type": "execute_result",
          "data": {
            "text/plain": [
              "MODEL(\n",
              "  (conv1): Conv2d(1, 12, kernel_size=(3, 3), stride=(1, 1))\n",
              "  (conv2): Conv2d(12, 48, kernel_size=(3, 3), stride=(1, 1))\n",
              "  (norm): BatchNorm2d(48, eps=1e-05, momentum=0.1, affine=True, track_running_stats=True)\n",
              "  (act): ReLU()\n",
              "  (pool1): MaxPool2d(kernel_size=2, stride=2, padding=0, dilation=1, ceil_mode=False)\n",
              "  (pool2): MaxPool2d(kernel_size=2, stride=2, padding=0, dilation=1, ceil_mode=False)\n",
              "  (classifier): Sequential(\n",
              "    (0): Flatten(start_dim=1, end_dim=-1)\n",
              "    (1): Dropout(p=0.2, inplace=False)\n",
              "    (2): Linear(in_features=1728, out_features=10, bias=True)\n",
              "  )\n",
              ")"
            ]
          },
          "metadata": {},
          "execution_count": 36
        }
      ]
    },
    {
      "cell_type": "markdown",
      "source": [
        "Training Steps"
      ],
      "metadata": {
        "id": "ds1tdC692bTr"
      }
    },
    {
      "cell_type": "code",
      "source": [
        "args = {}\n",
        "\n",
        "args[\"num_train_epochs\"] = 10\n",
        "args[\"optimizer\"] = torch.optim.Adam\n",
        "args[\"learning_rate\"] = 1e-3\n",
        "args[\"weight_decay\"] = 1e-3\n",
        "args[\"grad_clip\"] = False\n",
        "args[\"adam_epsilon\"] = 1e-8\n",
        "args[\"output_dir\"] = \"./output/\"\n",
        "args[\"max_grad_norm\"] = 1.0\n",
        "args[\"save_steps\"] = 1\n",
        "args[\"dropout\"] = 0.3\n",
        "args[\"lambda\"] = 0.001"
      ],
      "metadata": {
        "id": "OgysaIoWunem"
      },
      "execution_count": null,
      "outputs": []
    },
    {
      "cell_type": "code",
      "source": [
        "@torch.no_grad()\n",
        "def evaluate(model, val_loader):\n",
        "  model.eval()\n",
        "  outputs=[model.validation_step(batch) for batch in val_loader]\n",
        "  return model.validation_epoch_end(outputs)\n",
        "\n",
        "def get_lr(optimizer):\n",
        "    for param_group in optimizer.param_groups:\n",
        "        return param_group['lr']\n",
        "\n",
        "def fit(args,model,train_loader,val_loader,lr):\n",
        "  torch.cuda.empty_cache()\n",
        "  history=[]\n",
        "\n",
        "  optimizer=args[\"optimizer\"](model.parameters(), lr=lr,weight_decay=args[\"weight_decay\"])\n",
        "  # sched=torch.optim.lr_scheduler.OneCycleLR(optimizer,args[\"learning_rate\"], epochs=args[\"num_train_epochs\"],\n",
        "  #                                           steps_per_epoch=len(train_loader))\n",
        "\n",
        "  for epoch in range(args[\"num_train_epochs\"]):\n",
        "    model.train()\n",
        "    train_losses=[]\n",
        "    train_accs=[]\n",
        "    lrs=[]\n",
        "    for batch in train_loader:\n",
        "          loss,acc=model.training_step(batch)\n",
        "          train_losses.append(loss)\n",
        "          train_accs.append(acc)\n",
        "          loss.backward()\n",
        "\n",
        "          # Gradient clipping\n",
        "          if args[\"grad_clip\"]:\n",
        "            nn.utils.clip_grad_value_(model.parameters(), args[\"grad_clip\"])\n",
        "\n",
        "          optimizer.step()\n",
        "          optimizer.zero_grad()\n",
        "\n",
        "          # Record & update learning rate\n",
        "          #lrs.append(get_lr(optimizer))\n",
        "          #sched.step()\n",
        "\n",
        "    #validation\n",
        "    result=evaluate(model,val_loader)\n",
        "    result['train_loss']=torch.stack(train_losses).mean().item()\n",
        "    result['train_acc']=torch.stack(train_accs).mean().item()\n",
        "   # result[\"lrs\"]=lrs\n",
        "    model.epoch_end(epoch,result)\n",
        "    history.append(result)\n",
        "\n",
        "  return history"
      ],
      "metadata": {
        "id": "83vLYtkVuaxu"
      },
      "execution_count": null,
      "outputs": []
    },
    {
      "cell_type": "markdown",
      "source": [],
      "metadata": {
        "id": "-DejedMZStyS"
      }
    },
    {
      "cell_type": "markdown",
      "source": [
        "TRAIN/TEST"
      ],
      "metadata": {
        "id": "n7kfDaQqStek"
      }
    },
    {
      "cell_type": "code",
      "source": [
        "result0=evaluate(model_1,test_loader)\n",
        "result0"
      ],
      "metadata": {
        "colab": {
          "base_uri": "https://localhost:8080/"
        },
        "id": "7KGtDoHW9wlG",
        "outputId": "d0f0c9bc-7887-4c43-ac95-08c0bc316d76"
      },
      "execution_count": null,
      "outputs": [
        {
          "output_type": "execute_result",
          "data": {
            "text/plain": [
              "{'val_loss': 2.3140838146209717, 'val_acc': 0.09733455628156662}"
            ]
          },
          "metadata": {},
          "execution_count": 39
        }
      ]
    },
    {
      "cell_type": "code",
      "source": [
        "%%time\n",
        "try1=fit(args,model_1,train_loader,val_loader,1e-5)"
      ],
      "metadata": {
        "colab": {
          "base_uri": "https://localhost:8080/"
        },
        "id": "oOpanJDaZT6c",
        "outputId": "e809a584-0257-4134-f286-122cefdbe266"
      },
      "execution_count": null,
      "outputs": [
        {
          "output_type": "stream",
          "name": "stdout",
          "text": [
            "Epoch [0], train_loss: 1.8132 , train_acc: 0.4146 , val_loss: 1.1831 , val_acc: 0.7387\n",
            "Epoch [1], train_loss: 0.9978 , train_acc: 0.7283 , val_loss: 0.7472 , val_acc: 0.8255\n",
            "Epoch [2], train_loss: 0.7073 , train_acc: 0.8124 , val_loss: 0.5728 , val_acc: 0.8587\n",
            "Epoch [3], train_loss: 0.5615 , train_acc: 0.8467 , val_loss: 0.4762 , val_acc: 0.8778\n",
            "Epoch [4], train_loss: 0.4751 , train_acc: 0.8706 , val_loss: 0.4150 , val_acc: 0.8935\n",
            "Epoch [5], train_loss: 0.4182 , train_acc: 0.8855 , val_loss: 0.3649 , val_acc: 0.9063\n",
            "Epoch [6], train_loss: 0.3761 , train_acc: 0.8953 , val_loss: 0.3336 , val_acc: 0.9127\n",
            "Epoch [7], train_loss: 0.3397 , train_acc: 0.9050 , val_loss: 0.3055 , val_acc: 0.9175\n",
            "Epoch [8], train_loss: 0.3149 , train_acc: 0.9127 , val_loss: 0.2787 , val_acc: 0.9259\n",
            "Epoch [9], train_loss: 0.2968 , train_acc: 0.9167 , val_loss: 0.2656 , val_acc: 0.9307\n",
            "CPU times: user 6min 33s, sys: 1.25 s, total: 6min 34s\n",
            "Wall time: 6min 48s\n"
          ]
        }
      ]
    },
    {
      "cell_type": "code",
      "source": [
        "evaluate(model_1,test_loader)"
      ],
      "metadata": {
        "colab": {
          "base_uri": "https://localhost:8080/"
        },
        "id": "MhmJqF0Tddx5",
        "outputId": "b4f12812-d6b2-459e-a341-a57598b1fb09"
      },
      "execution_count": null,
      "outputs": [
        {
          "output_type": "execute_result",
          "data": {
            "text/plain": [
              "{'val_loss': 0.1869191974401474, 'val_acc': 0.9530847668647766}"
            ]
          },
          "metadata": {},
          "execution_count": 41
        }
      ]
    },
    {
      "cell_type": "code",
      "source": [
        "def plot_losses(history):\n",
        "    train_losses = [x.get('train_loss') for x in history]\n",
        "    val_losses = [x['val_loss'] for x in history]\n",
        "    plt.plot(train_losses, '-bx')\n",
        "    plt.plot(val_losses, '-rx')\n",
        "    plt.xlabel('epoch')\n",
        "    plt.ylabel('loss')\n",
        "    plt.legend(['Training', 'Validation'])\n",
        "    plt.title('Loss vs. No. of epochs');"
      ],
      "metadata": {
        "id": "cfd4nt6sdsV0"
      },
      "execution_count": null,
      "outputs": []
    },
    {
      "cell_type": "code",
      "source": [
        "def plot_accuracies(history):\n",
        "    train_losses = [x.get('train_acc') for x in history]\n",
        "    val_losses = [x['val_acc'] for x in history]\n",
        "    plt.plot(train_losses, '-bx')\n",
        "    plt.plot(val_losses, '-rx')\n",
        "    plt.xlabel('epoch')\n",
        "    plt.ylabel('loss')\n",
        "    plt.legend(['Training', 'Validation'])\n",
        "    plt.title('Accuracy vs. No. of epochs');"
      ],
      "metadata": {
        "id": "mUG00jyRY1KO"
      },
      "execution_count": null,
      "outputs": []
    },
    {
      "cell_type": "code",
      "source": [
        "plot_losses(try1)"
      ],
      "metadata": {
        "id": "9CI7fv8wdtj7"
      },
      "execution_count": null,
      "outputs": []
    },
    {
      "cell_type": "code",
      "source": [
        "plot_accuracies(try1)"
      ],
      "metadata": {
        "id": "iFOEQYcnY_Se"
      },
      "execution_count": null,
      "outputs": []
    },
    {
      "cell_type": "code",
      "source": [
        "#save\n",
        "\n",
        "torch.save(model_1.state_dict(),'model_1_bs_32.pth')"
      ],
      "metadata": {
        "id": "8GCl_6K-IeNX"
      },
      "execution_count": null,
      "outputs": []
    },
    {
      "cell_type": "markdown",
      "source": [
        "Model_2"
      ],
      "metadata": {
        "id": "UJ8fHOWbZQTO"
      }
    },
    {
      "cell_type": "code",
      "source": [
        "model_2 = to_device(MODEL(), device)\n",
        "model_2"
      ],
      "metadata": {
        "colab": {
          "base_uri": "https://localhost:8080/"
        },
        "id": "vbGDgVMB5sUz",
        "outputId": "115cac1f-14f7-48f0-bc44-8a8d3069d533"
      },
      "execution_count": null,
      "outputs": [
        {
          "output_type": "execute_result",
          "data": {
            "text/plain": [
              "MODEL(\n",
              "  (conv1): Conv2d(1, 12, kernel_size=(3, 3), stride=(1, 1))\n",
              "  (conv2): Conv2d(12, 48, kernel_size=(3, 3), stride=(1, 1))\n",
              "  (norm): BatchNorm2d(48, eps=1e-05, momentum=0.1, affine=True, track_running_stats=True)\n",
              "  (act): ReLU()\n",
              "  (pool1): MaxPool2d(kernel_size=2, stride=2, padding=0, dilation=1, ceil_mode=False)\n",
              "  (pool2): MaxPool2d(kernel_size=2, stride=2, padding=0, dilation=1, ceil_mode=False)\n",
              "  (classifier): Sequential(\n",
              "    (0): Flatten(start_dim=1, end_dim=-1)\n",
              "    (1): Dropout(p=0.2, inplace=False)\n",
              "    (2): Linear(in_features=1728, out_features=10, bias=True)\n",
              "  )\n",
              ")"
            ]
          },
          "metadata": {},
          "execution_count": 43
        }
      ]
    },
    {
      "cell_type": "code",
      "source": [
        "%%time\n",
        "try2=fit(args,model_2,train_loader,val_loader,1e-4)"
      ],
      "metadata": {
        "colab": {
          "base_uri": "https://localhost:8080/"
        },
        "id": "uNTdHoYxnOpY",
        "outputId": "77afee4e-a138-4ab1-cbaa-51f29af546e9"
      },
      "execution_count": null,
      "outputs": [
        {
          "output_type": "stream",
          "name": "stdout",
          "text": [
            "Epoch [0], train_loss: 0.6288 , train_acc: 0.8173 , val_loss: 0.2896 , val_acc: 0.9229\n",
            "Epoch [1], train_loss: 0.2605 , train_acc: 0.9258 , val_loss: 0.1997 , val_acc: 0.9470\n",
            "Epoch [2], train_loss: 0.1949 , train_acc: 0.9435 , val_loss: 0.1564 , val_acc: 0.9564\n",
            "Epoch [3], train_loss: 0.1633 , train_acc: 0.9526 , val_loss: 0.1351 , val_acc: 0.9638\n",
            "Epoch [4], train_loss: 0.1457 , train_acc: 0.9573 , val_loss: 0.1176 , val_acc: 0.9670\n",
            "Epoch [5], train_loss: 0.1321 , train_acc: 0.9606 , val_loss: 0.1128 , val_acc: 0.9686\n",
            "Epoch [6], train_loss: 0.1217 , train_acc: 0.9647 , val_loss: 0.1022 , val_acc: 0.9712\n",
            "Epoch [7], train_loss: 0.1155 , train_acc: 0.9653 , val_loss: 0.1048 , val_acc: 0.9700\n",
            "Epoch [8], train_loss: 0.1121 , train_acc: 0.9666 , val_loss: 0.0956 , val_acc: 0.9719\n",
            "Epoch [9], train_loss: 0.1064 , train_acc: 0.9674 , val_loss: 0.0919 , val_acc: 0.9744\n",
            "CPU times: user 6min 30s, sys: 1.41 s, total: 6min 31s\n",
            "Wall time: 6min 45s\n"
          ]
        }
      ]
    },
    {
      "cell_type": "code",
      "source": [
        "evaluate(model_2,test_loader)"
      ],
      "metadata": {
        "colab": {
          "base_uri": "https://localhost:8080/"
        },
        "id": "nWetKNgQa0lQ",
        "outputId": "93f0ec67-30ca-4e50-8228-3c1812f97a84"
      },
      "execution_count": null,
      "outputs": [
        {
          "output_type": "execute_result",
          "data": {
            "text/plain": [
              "{'val_loss': 0.05506257340312004, 'val_acc': 0.9836971163749695}"
            ]
          },
          "metadata": {},
          "execution_count": 45
        }
      ]
    },
    {
      "cell_type": "code",
      "source": [
        "plot_losses(try2)"
      ],
      "metadata": {
        "id": "5vWRN31_a5z4"
      },
      "execution_count": null,
      "outputs": []
    },
    {
      "cell_type": "code",
      "source": [
        "plot_accuracies(try2)"
      ],
      "metadata": {
        "id": "saJpYeyAbFV8"
      },
      "execution_count": null,
      "outputs": []
    },
    {
      "cell_type": "markdown",
      "source": [
        "LR 3"
      ],
      "metadata": {
        "id": "Z8OhqpjJ4IYO"
      }
    },
    {
      "cell_type": "code",
      "source": [
        "model_3 = to_device(MODEL(), device)\n",
        "model_3"
      ],
      "metadata": {
        "colab": {
          "base_uri": "https://localhost:8080/"
        },
        "id": "IOEkTg6L5zZj",
        "outputId": "db5b0382-eb76-49de-8b68-3d2ce2b3ab7d"
      },
      "execution_count": null,
      "outputs": [
        {
          "output_type": "execute_result",
          "data": {
            "text/plain": [
              "MODEL(\n",
              "  (conv1): Conv2d(1, 12, kernel_size=(3, 3), stride=(1, 1))\n",
              "  (conv2): Conv2d(12, 48, kernel_size=(3, 3), stride=(1, 1))\n",
              "  (norm): BatchNorm2d(48, eps=1e-05, momentum=0.1, affine=True, track_running_stats=True)\n",
              "  (act): ReLU()\n",
              "  (pool1): MaxPool2d(kernel_size=2, stride=2, padding=0, dilation=1, ceil_mode=False)\n",
              "  (pool2): MaxPool2d(kernel_size=2, stride=2, padding=0, dilation=1, ceil_mode=False)\n",
              "  (classifier): Sequential(\n",
              "    (0): Flatten(start_dim=1, end_dim=-1)\n",
              "    (1): Dropout(p=0.2, inplace=False)\n",
              "    (2): Linear(in_features=1728, out_features=10, bias=True)\n",
              "  )\n",
              ")"
            ]
          },
          "metadata": {},
          "execution_count": 46
        }
      ]
    },
    {
      "cell_type": "code",
      "source": [
        "%%time\n",
        "try3=fit(args,model_3,train_loader,val_loader,1e-3)"
      ],
      "metadata": {
        "colab": {
          "base_uri": "https://localhost:8080/"
        },
        "id": "-SZdK49cdE4c",
        "outputId": "d8eaf2b7-8bca-488b-f090-3244d1d2c6e0"
      },
      "execution_count": null,
      "outputs": [
        {
          "output_type": "stream",
          "name": "stdout",
          "text": [
            "Epoch [0], train_loss: 0.2632 , train_acc: 0.9185 , val_loss: 0.1194 , val_acc: 0.9650\n",
            "Epoch [1], train_loss: 0.1271 , train_acc: 0.9601 , val_loss: 0.1259 , val_acc: 0.9588\n",
            "Epoch [2], train_loss: 0.1068 , train_acc: 0.9664 , val_loss: 0.0976 , val_acc: 0.9712\n",
            "Epoch [3], train_loss: 0.1003 , train_acc: 0.9690 , val_loss: 0.0839 , val_acc: 0.9751\n",
            "Epoch [4], train_loss: 0.0885 , train_acc: 0.9730 , val_loss: 0.0754 , val_acc: 0.9759\n",
            "Epoch [5], train_loss: 0.0875 , train_acc: 0.9722 , val_loss: 0.0797 , val_acc: 0.9761\n",
            "Epoch [6], train_loss: 0.0863 , train_acc: 0.9731 , val_loss: 0.0750 , val_acc: 0.9785\n",
            "Epoch [7], train_loss: 0.0820 , train_acc: 0.9746 , val_loss: 0.0687 , val_acc: 0.9785\n",
            "Epoch [8], train_loss: 0.0816 , train_acc: 0.9735 , val_loss: 0.0722 , val_acc: 0.9777\n",
            "Epoch [9], train_loss: 0.0802 , train_acc: 0.9753 , val_loss: 0.0718 , val_acc: 0.9788\n",
            "CPU times: user 6min 19s, sys: 1.26 s, total: 6min 20s\n",
            "Wall time: 6min 22s\n"
          ]
        }
      ]
    },
    {
      "cell_type": "code",
      "source": [
        "evaluate(model_3,test_loader)"
      ],
      "metadata": {
        "id": "60CoK8EBfJ2t",
        "colab": {
          "base_uri": "https://localhost:8080/"
        },
        "outputId": "ee60e316-2428-44cf-f483-e270e47752dc"
      },
      "execution_count": null,
      "outputs": [
        {
          "output_type": "execute_result",
          "data": {
            "text/plain": [
              "{'val_loss': 0.0477227084338665, 'val_acc': 0.984702467918396}"
            ]
          },
          "metadata": {},
          "execution_count": 49
        }
      ]
    },
    {
      "cell_type": "markdown",
      "source": [
        "Model 4"
      ],
      "metadata": {
        "id": "0KLttnakfH2V"
      }
    },
    {
      "cell_type": "code",
      "source": [
        "model_4 = to_device(MODEL(), device)\n",
        "model_4"
      ],
      "metadata": {
        "colab": {
          "base_uri": "https://localhost:8080/"
        },
        "id": "xsPLti4H59cs",
        "outputId": "ff9faf77-c540-4028-9888-fe9c2cd55f33"
      },
      "execution_count": null,
      "outputs": [
        {
          "output_type": "execute_result",
          "data": {
            "text/plain": [
              "MODEL(\n",
              "  (conv1): Conv2d(1, 12, kernel_size=(3, 3), stride=(1, 1))\n",
              "  (conv2): Conv2d(12, 48, kernel_size=(3, 3), stride=(1, 1))\n",
              "  (norm): BatchNorm2d(48, eps=1e-05, momentum=0.1, affine=True, track_running_stats=True)\n",
              "  (act): ReLU()\n",
              "  (pool1): MaxPool2d(kernel_size=2, stride=2, padding=0, dilation=1, ceil_mode=False)\n",
              "  (pool2): MaxPool2d(kernel_size=2, stride=2, padding=0, dilation=1, ceil_mode=False)\n",
              "  (classifier): Sequential(\n",
              "    (0): Flatten(start_dim=1, end_dim=-1)\n",
              "    (1): Dropout(p=0.2, inplace=False)\n",
              "    (2): Linear(in_features=1728, out_features=10, bias=True)\n",
              "  )\n",
              ")"
            ]
          },
          "metadata": {},
          "execution_count": 48
        }
      ]
    },
    {
      "cell_type": "code",
      "source": [
        "%%time\n",
        "try4=fit(args,model_4,train_loader,val_loader,1e-2)"
      ],
      "metadata": {
        "colab": {
          "base_uri": "https://localhost:8080/"
        },
        "id": "zFsAwCJ_epEj",
        "outputId": "8a60383f-03a8-4707-b069-358b9d4d7803"
      },
      "execution_count": null,
      "outputs": [
        {
          "output_type": "stream",
          "name": "stdout",
          "text": [
            "Epoch [0], train_loss: 0.3766 , train_acc: 0.9097 , val_loss: 0.1392 , val_acc: 0.9590\n",
            "Epoch [1], train_loss: 0.1305 , train_acc: 0.9592 , val_loss: 0.1076 , val_acc: 0.9670\n",
            "Epoch [2], train_loss: 0.1270 , train_acc: 0.9602 , val_loss: 0.1180 , val_acc: 0.9643\n",
            "Epoch [3], train_loss: 0.1308 , train_acc: 0.9595 , val_loss: 0.1046 , val_acc: 0.9676\n",
            "Epoch [4], train_loss: 0.1313 , train_acc: 0.9586 , val_loss: 0.1063 , val_acc: 0.9686\n",
            "Epoch [5], train_loss: 0.1346 , train_acc: 0.9583 , val_loss: 0.1395 , val_acc: 0.9578\n",
            "Epoch [6], train_loss: 0.1346 , train_acc: 0.9585 , val_loss: 0.1461 , val_acc: 0.9537\n",
            "Epoch [7], train_loss: 0.1313 , train_acc: 0.9596 , val_loss: 0.1233 , val_acc: 0.9641\n",
            "Epoch [8], train_loss: 0.1333 , train_acc: 0.9580 , val_loss: 0.1140 , val_acc: 0.9664\n",
            "Epoch [9], train_loss: 0.1355 , train_acc: 0.9582 , val_loss: 0.1198 , val_acc: 0.9624\n",
            "CPU times: user 6min 24s, sys: 1.28 s, total: 6min 25s\n",
            "Wall time: 6min 38s\n"
          ]
        }
      ]
    },
    {
      "cell_type": "markdown",
      "source": [
        "Compare"
      ],
      "metadata": {
        "id": "kzvdNvUNiaVv"
      }
    },
    {
      "cell_type": "code",
      "source": [
        "def compare_train_losses():\n",
        "    train_losses_1 = [x.get('train_loss') for x in try1]\n",
        "    train_losses_2 = [x.get('train_loss') for x in try2]\n",
        "    train_losses_3 = [x.get('train_loss') for x in try3]\n",
        "    train_losses_4 = [x.get('train_loss') for x in try4]\n",
        "\n",
        "    plt.plot(train_losses_1)\n",
        "    plt.plot(train_losses_2)\n",
        "    plt.plot(train_losses_3)\n",
        "    plt.plot(train_losses_4)\n",
        "\n",
        "    plt.xlabel('epoch')\n",
        "    plt.ylabel('loss')\n",
        "    plt.legend(['1e-5','1e-4','1e-3','1e-2'])\n",
        "    plt.title('Training Loss vs. No. of epochs');"
      ],
      "metadata": {
        "id": "Sfb1uPvUiZaK"
      },
      "execution_count": null,
      "outputs": []
    },
    {
      "cell_type": "code",
      "source": [
        "def compare_val_losses():\n",
        "    val_losses_1 = [x.get('val_loss') for x in try1]\n",
        "    val_losses_2 = [x.get('val_loss') for x in try2]\n",
        "    val_losses_3 = [x.get('val_loss') for x in try3]\n",
        "    val_losses_4 = [x.get('val_loss') for x in try4]\n",
        "\n",
        "    plt.plot(val_losses_1)\n",
        "    plt.plot(val_losses_2)\n",
        "    plt.plot(val_losses_3)\n",
        "    plt.plot(val_losses_4)\n",
        "    plt.xlabel('epoch')\n",
        "    plt.ylabel('loss')\n",
        "    plt.legend(['1e-5','1e-4','1e-3','1e-2'])\n",
        "    plt.title('Val Loss vs. No. of epochs');"
      ],
      "metadata": {
        "id": "psKGCPyfjTRA"
      },
      "execution_count": null,
      "outputs": []
    },
    {
      "cell_type": "code",
      "source": [
        "def compare_train_accs():\n",
        "    val_acc_1 = [x.get('train_acc') for x in try1]\n",
        "    val_acc_2 = [x.get('train_acc') for x in try2]\n",
        "    val_acc_3 = [x.get('train_acc') for x in try3]\n",
        "    val_acc_4 = [x.get('train_acc') for x in try4]\n",
        "\n",
        "    plt.plot(val_acc_1)\n",
        "    plt.plot(val_acc_2)\n",
        "    plt.plot(val_acc_3)\n",
        "    plt.plot(val_acc_4)\n",
        "\n",
        "    plt.xlabel('epoch')\n",
        "    plt.ylabel('loss')\n",
        "    plt.legend(['1e-5','1e-4','1e-3','1e-2'])\n",
        "    plt.title('Train Accuracy vs. No. of epochs');"
      ],
      "metadata": {
        "id": "WejYNWUzkfYr"
      },
      "execution_count": null,
      "outputs": []
    },
    {
      "cell_type": "code",
      "source": [
        "def compare_val_accs():\n",
        "    val_acc_1 = [x.get('val_acc') for x in try1]\n",
        "    val_acc_2 = [x.get('val_acc') for x in try2]\n",
        "    val_acc_3 = [x.get('val_acc') for x in try3]\n",
        "    val_acc_4 = [x.get('val_acc') for x in try4]\n",
        "\n",
        "    plt.plot(val_acc_1)\n",
        "    plt.plot(val_acc_2)\n",
        "    plt.plot(val_acc_3)\n",
        "    plt.plot(val_acc_4)\n",
        "    plt.xlabel('epoch')\n",
        "    plt.ylabel('loss')\n",
        "    plt.legend(['1e-5','1e-4','1e-3','1e-2'])\n",
        "    plt.title('Val Accuracy vs. No. of epochs');"
      ],
      "metadata": {
        "id": "9Xi43kEvkEEx"
      },
      "execution_count": null,
      "outputs": []
    },
    {
      "cell_type": "code",
      "source": [
        "compare_train_losses()"
      ],
      "metadata": {
        "colab": {
          "base_uri": "https://localhost:8080/",
          "height": 472
        },
        "id": "AcEl88GdjH0o",
        "outputId": "d4cf16f0-12d5-431d-98f6-6a7b9b472ae6"
      },
      "execution_count": null,
      "outputs": [
        {
          "output_type": "display_data",
          "data": {
            "text/plain": [
              "<Figure size 640x480 with 1 Axes>"
            ],
            "image/png": "[encoded data removed]"
          },
          "metadata": {}
        }
      ]
    },
    {
      "cell_type": "code",
      "source": [
        "compare_val_losses()"
      ],
      "metadata": {
        "colab": {
          "base_uri": "https://localhost:8080/",
          "height": 472
        },
        "id": "pLp43p6RjSgY",
        "outputId": "e57a12de-a3ac-4e20-f6f2-5638f39eb4dc"
      },
      "execution_count": null,
      "outputs": [
        {
          "output_type": "display_data",
          "data": {
            "text/plain": [
              "<Figure size 640x480 with 1 Axes>"
            ],
            "image/png": "[encoded data removed]"
          },
          "metadata": {}
        }
      ]
    },
    {
      "cell_type": "code",
      "source": [
        "compare_train_accs()"
      ],
      "metadata": {
        "colab": {
          "base_uri": "https://localhost:8080/",
          "height": 472
        },
        "id": "efxvtMlRkrhv",
        "outputId": "2521c0f6-81ae-438a-bf86-924e4a2ec62e"
      },
      "execution_count": null,
      "outputs": [
        {
          "output_type": "display_data",
          "data": {
            "text/plain": [
              "<Figure size 640x480 with 1 Axes>"
            ],
            "image/png": "[encoded data removed]"
          },
          "metadata": {}
        }
      ]
    },
    {
      "cell_type": "code",
      "source": [
        "compare_val_accs()"
      ],
      "metadata": {
        "colab": {
          "base_uri": "https://localhost:8080/",
          "height": 472
        },
        "id": "C9YEW94TkyAu",
        "outputId": "4ec5f33f-85b5-441b-a9a3-da225a572a9b"
      },
      "execution_count": null,
      "outputs": [
        {
          "output_type": "display_data",
          "data": {
            "text/plain": [
              "<Figure size 640x480 with 1 Axes>"
            ],
            "image/png": "[encoded data removed]"
          },
          "metadata": {}
        }
      ]
    },
    {
      "cell_type": "code",
      "source": [
        "#save\n",
        "\n",
        "torch.save(model_1.state_dict(),'model_2_lr4.pth')"
      ],
      "metadata": {
        "id": "3E1LDMJ0k-Ay"
      },
      "execution_count": null,
      "outputs": []
    },
    {
      "cell_type": "code",
      "source": [
        "#save\n",
        "\n",
        "torch.save(model_1.state_dict(),'model_3_lr3.pth')"
      ],
      "metadata": {
        "id": "tZuNwr4bk-kh"
      },
      "execution_count": null,
      "outputs": []
    },
    {
      "cell_type": "code",
      "source": [
        "#save\n",
        "\n",
        "torch.save(model_1.state_dict(),'model_4_lr2.pth')"
      ],
      "metadata": {
        "id": "ptzqaTT8k_Ja"
      },
      "execution_count": null,
      "outputs": []
    },
    {
      "cell_type": "markdown",
      "source": [
        "Conclusion-\n",
        "* need to find precise learning rate for fastest training\n",
        "* very high lr leads to fast training initially but then jumps around the saturation point     \n",
        "*  very low lr takes very long to reach the same accuracy\n",
        "* one solution is to use scheduler/ warm up which start the learning rate from low value, takes it to the max specified lr and again decreases as we come near end of the training epochs, which allows the benefit of both high and low learning rates at appropriate times\n",
        "\n",
        "\n",
        "\n",
        "\n",
        "\n",
        "\n"
      ],
      "metadata": {
        "id": "N2pC5kvRsjXZ"
      }
    },
    {
      "cell_type": "code",
      "source": [
        "# def conv_block(in_channels, out_channels, pool=False):\n",
        "#     layers = [nn.Conv2d(in_channels, out_channels, kernel_size=3, padding=1),\n",
        "#               nn.BatchNorm2d(out_channels),\n",
        "#               nn.ReLU(inplace=True)]\n",
        "#     if pool: layers.append(nn.MaxPool2d(2))\n",
        "#     return nn.Sequential(*layers)\n",
        "\n",
        "class MODEL1(ImageClassificationBase):\n",
        "    def __init__(self):\n",
        "        super().__init__()\n",
        "\n",
        "        self.conv1 = nn.Conv2d(in_channels=1,out_channels=10, kernel_size=3, stride=1, padding=0)#10*26*26\n",
        "        self.conv2 = nn.Conv2d(in_channels=10,out_channels=48, kernel_size=3, stride=1, padding=0)#48*24*24\n",
        "\n",
        "        self.norm=nn.BatchNorm2d(48)\n",
        "        self.act=nn.ReLU()\n",
        "\n",
        "        self.pool1 = nn.MaxPool2d(kernel_size=2,stride=2) #48*12*12\n",
        "        self.pool2 = nn.MaxPool2d(kernel_size=2,stride=2) #48*6*6\n",
        "\n",
        "        self.classifier = nn.Sequential(nn.Flatten(),\n",
        "                                        nn.Dropout(0.2),\n",
        "                                        nn.Linear(48*6*6, 10))\n",
        "\n",
        "    def forward(self, x):\n",
        "        x = self.conv1(x)\n",
        "        x = self.conv2(x)\n",
        "        x = self.norm(x)\n",
        "        x = self.act(x)\n",
        "        x = self.pool1(x)\n",
        "        x = self.pool2(x)\n",
        "        x = self.act(x)\n",
        "        x = self.classifier(x)\n",
        "        return x"
      ],
      "metadata": {
        "id": "7z76Z2x-B0MB"
      },
      "execution_count": null,
      "outputs": []
    },
    {
      "cell_type": "code",
      "source": [
        "class MODEL2(ImageClassificationBase):\n",
        "    def __init__(self):\n",
        "        super().__init__()\n",
        "\n",
        "        self.conv1 = nn.Conv2d(in_channels=1,out_channels=10, kernel_size=3, stride=1, padding=0)#10*26*26\n",
        "        self.conv2 = nn.Conv2d(in_channels=10,out_channels=48, kernel_size=3, stride=1, padding=0)#48*24*24\n",
        "\n",
        "        self.norm=nn.BatchNorm2d(48)\n",
        "        self.act=nn.Tanh()\n",
        "\n",
        "        self.pool1 = nn.MaxPool2d(kernel_size=2,stride=2) #48*12*12\n",
        "        self.pool2 = nn.MaxPool2d(kernel_size=2,stride=2) #48*6*6\n",
        "\n",
        "        self.classifier = nn.Sequential(nn.Flatten(),\n",
        "                                        nn.Dropout(0.2),\n",
        "                                        nn.Linear(48*6*6, 10))\n",
        "\n",
        "    def forward(self, x):\n",
        "        x = self.conv1(x)\n",
        "        x = self.conv2(x)\n",
        "        x = self.norm(x)\n",
        "        x = self.act(x)\n",
        "        x = self.pool1(x)\n",
        "        x = self.pool2(x)\n",
        "        x = self.act(x)\n",
        "        x = self.classifier(x)\n",
        "        return x"
      ],
      "metadata": {
        "id": "XMbTTXMMDAbp"
      },
      "execution_count": null,
      "outputs": []
    },
    {
      "cell_type": "code",
      "source": [
        "class MODEL3(ImageClassificationBase):\n",
        "    def __init__(self):\n",
        "        super().__init__()\n",
        "\n",
        "        self.conv1 = nn.Conv2d(in_channels=1,out_channels=10, kernel_size=3, stride=1, padding=0)#10*26*26\n",
        "        self.conv2 = nn.Conv2d(in_channels=10,out_channels=48, kernel_size=3, stride=1, padding=0)#48*24*24\n",
        "\n",
        "        self.norm=nn.BatchNorm2d(48)\n",
        "        self.act=nn.Sigmoid()\n",
        "\n",
        "        self.pool1 = nn.MaxPool2d(kernel_size=2,stride=2) #48*12*12\n",
        "        self.pool2 = nn.MaxPool2d(kernel_size=2,stride=2) #48*6*6\n",
        "\n",
        "        self.classifier = nn.Sequential(nn.Flatten(),\n",
        "                                        nn.Dropout(0.2),\n",
        "                                        nn.Linear(48*6*6, 10))\n",
        "\n",
        "    def forward(self, x):\n",
        "        x = self.conv1(x)\n",
        "        x = self.conv2(x)\n",
        "        x = self.norm(x)\n",
        "        x = self.act(x)\n",
        "        x = self.pool1(x)\n",
        "        x = self.pool2(x)\n",
        "        x = self.act(x)\n",
        "        x = self.classifier(x)\n",
        "        return x"
      ],
      "metadata": {
        "id": "pq3KjEkDDEZh"
      },
      "execution_count": null,
      "outputs": []
    },
    {
      "cell_type": "code",
      "source": [
        "def fit2(args,model,train_loader,val_loader):\n",
        "  torch.cuda.empty_cache()\n",
        "  history=[]\n",
        "\n",
        "  optimizer=args[\"optimizer\"](model.parameters(), lr=args[\"learning_rate\"],weight_decay=args[\"weight_decay\"])\n",
        "  sched=torch.optim.lr_scheduler.OneCycleLR(optimizer,args[\"learning_rate\"], epochs=args[\"num_train_epochs\"],\n",
        "                                             steps_per_epoch=len(train_loader))\n",
        "\n",
        "  for epoch in range(args[\"num_train_epochs\"]):\n",
        "    model.train()\n",
        "    train_losses=[]\n",
        "    train_accs=[]\n",
        "    lrs=[]\n",
        "    for batch in train_loader:\n",
        "          loss,acc=model.training_step(batch)\n",
        "          train_losses.append(loss)\n",
        "          train_accs.append(acc)\n",
        "          loss.backward()\n",
        "\n",
        "          # Gradient clipping\n",
        "          if args[\"grad_clip\"]:\n",
        "            nn.utils.clip_grad_value_(model.parameters(), args[\"grad_clip\"])\n",
        "\n",
        "          optimizer.step()\n",
        "          optimizer.zero_grad()\n",
        "\n",
        "          # Record & update learning rate\n",
        "          lrs.append(get_lr(optimizer))\n",
        "          sched.step()\n",
        "\n",
        "    #validation\n",
        "    result=evaluate(model,val_loader)\n",
        "    result['train_loss']=torch.stack(train_losses).mean().item()\n",
        "    result['train_acc']=torch.stack(train_accs).mean().item()\n",
        "    result[\"lrs\"]=lrs\n",
        "    model.epoch_end(epoch,result)\n",
        "    history.append(result)\n",
        "\n",
        "  return history"
      ],
      "metadata": {
        "id": "3rueD9lnCP1S"
      },
      "execution_count": null,
      "outputs": []
    },
    {
      "cell_type": "code",
      "source": [
        "model_a = to_device(MODEL1(), device)\n",
        "model_a"
      ],
      "metadata": {
        "colab": {
          "base_uri": "https://localhost:8080/"
        },
        "id": "wVn2HtWfCxl2",
        "outputId": "11264ef5-edc5-44c8-914d-160f8748d592"
      },
      "execution_count": null,
      "outputs": [
        {
          "output_type": "execute_result",
          "data": {
            "text/plain": [
              "MODEL1(\n",
              "  (conv1): Conv2d(1, 10, kernel_size=(3, 3), stride=(1, 1))\n",
              "  (conv2): Conv2d(10, 48, kernel_size=(3, 3), stride=(1, 1))\n",
              "  (norm): BatchNorm2d(48, eps=1e-05, momentum=0.1, affine=True, track_running_stats=True)\n",
              "  (act): ReLU()\n",
              "  (pool1): MaxPool2d(kernel_size=2, stride=2, padding=0, dilation=1, ceil_mode=False)\n",
              "  (pool2): MaxPool2d(kernel_size=2, stride=2, padding=0, dilation=1, ceil_mode=False)\n",
              "  (classifier): Sequential(\n",
              "    (0): Flatten(start_dim=1, end_dim=-1)\n",
              "    (1): Dropout(p=0.2, inplace=False)\n",
              "    (2): Linear(in_features=1728, out_features=10, bias=True)\n",
              "  )\n",
              ")"
            ]
          },
          "metadata": {},
          "execution_count": 81
        }
      ]
    },
    {
      "cell_type": "code",
      "source": [
        "%%time\n",
        "trya=fit2(args,model_a,train_loader,val_loader)"
      ],
      "metadata": {
        "colab": {
          "base_uri": "https://localhost:8080/"
        },
        "id": "FiAS5tfFDJmt",
        "outputId": "756db193-6237-48c6-ad8e-b6365381bdbb"
      },
      "execution_count": null,
      "outputs": [
        {
          "output_type": "stream",
          "name": "stdout",
          "text": [
            "Epoch [0], train_loss: 0.8671 , train_acc: 0.7394 , val_loss: 0.2766 , val_acc: 0.9286\n",
            "Epoch [1], train_loss: 0.2134 , train_acc: 0.9369 , val_loss: 0.1304 , val_acc: 0.9617\n",
            "Epoch [2], train_loss: 0.1392 , train_acc: 0.9569 , val_loss: 0.1112 , val_acc: 0.9677\n",
            "Epoch [3], train_loss: 0.1165 , train_acc: 0.9630 , val_loss: 0.0925 , val_acc: 0.9715\n",
            "Epoch [4], train_loss: 0.1040 , train_acc: 0.9675 , val_loss: 0.0932 , val_acc: 0.9709\n",
            "Epoch [5], train_loss: 0.0910 , train_acc: 0.9707 , val_loss: 0.0821 , val_acc: 0.9759\n",
            "Epoch [6], train_loss: 0.0834 , train_acc: 0.9744 , val_loss: 0.0712 , val_acc: 0.9784\n",
            "Epoch [7], train_loss: 0.0771 , train_acc: 0.9761 , val_loss: 0.0664 , val_acc: 0.9813\n",
            "Epoch [8], train_loss: 0.0739 , train_acc: 0.9773 , val_loss: 0.0648 , val_acc: 0.9812\n",
            "Epoch [9], train_loss: 0.0700 , train_acc: 0.9786 , val_loss: 0.0647 , val_acc: 0.9812\n",
            "CPU times: user 6min 31s, sys: 1.74 s, total: 6min 33s\n",
            "Wall time: 6min 46s\n"
          ]
        }
      ]
    },
    {
      "cell_type": "code",
      "source": [
        "model_b = to_device(MODEL2(), device)\n",
        "model_b"
      ],
      "metadata": {
        "colab": {
          "base_uri": "https://localhost:8080/"
        },
        "id": "6lE-lsI1ER7q",
        "outputId": "77a0e342-f5c9-42bc-b88f-d7accf4bc5c6"
      },
      "execution_count": null,
      "outputs": [
        {
          "output_type": "execute_result",
          "data": {
            "text/plain": [
              "MODEL2(\n",
              "  (conv1): Conv2d(1, 10, kernel_size=(3, 3), stride=(1, 1))\n",
              "  (conv2): Conv2d(10, 48, kernel_size=(3, 3), stride=(1, 1))\n",
              "  (norm): BatchNorm2d(48, eps=1e-05, momentum=0.1, affine=True, track_running_stats=True)\n",
              "  (act): Tanh()\n",
              "  (pool1): MaxPool2d(kernel_size=2, stride=2, padding=0, dilation=1, ceil_mode=False)\n",
              "  (pool2): MaxPool2d(kernel_size=2, stride=2, padding=0, dilation=1, ceil_mode=False)\n",
              "  (classifier): Sequential(\n",
              "    (0): Flatten(start_dim=1, end_dim=-1)\n",
              "    (1): Dropout(p=0.2, inplace=False)\n",
              "    (2): Linear(in_features=1728, out_features=10, bias=True)\n",
              "  )\n",
              ")"
            ]
          },
          "metadata": {},
          "execution_count": 83
        }
      ]
    },
    {
      "cell_type": "code",
      "source": [
        "%%time\n",
        "tryb=fit2(args,model_b,train_loader,val_loader)"
      ],
      "metadata": {
        "colab": {
          "base_uri": "https://localhost:8080/"
        },
        "id": "_aKU8AaoEdZy",
        "outputId": "19a9e885-a8f1-476a-fb4d-4bdfa3015149"
      },
      "execution_count": null,
      "outputs": [
        {
          "output_type": "stream",
          "name": "stdout",
          "text": [
            "Epoch [0], train_loss: 1.1791 , train_acc: 0.6749 , val_loss: 0.5554 , val_acc: 0.8418\n",
            "Epoch [1], train_loss: 0.4055 , train_acc: 0.8821 , val_loss: 0.2792 , val_acc: 0.9251\n",
            "Epoch [2], train_loss: 0.2234 , train_acc: 0.9360 , val_loss: 0.1669 , val_acc: 0.9568\n",
            "Epoch [3], train_loss: 0.1467 , train_acc: 0.9579 , val_loss: 0.1211 , val_acc: 0.9676\n",
            "Epoch [4], train_loss: 0.1187 , train_acc: 0.9652 , val_loss: 0.1040 , val_acc: 0.9725\n",
            "Epoch [5], train_loss: 0.1046 , train_acc: 0.9691 , val_loss: 0.0976 , val_acc: 0.9719\n",
            "Epoch [6], train_loss: 0.0952 , train_acc: 0.9726 , val_loss: 0.0889 , val_acc: 0.9752\n",
            "Epoch [7], train_loss: 0.0904 , train_acc: 0.9734 , val_loss: 0.0825 , val_acc: 0.9771\n",
            "Epoch [8], train_loss: 0.0867 , train_acc: 0.9756 , val_loss: 0.0851 , val_acc: 0.9765\n",
            "Epoch [9], train_loss: 0.0843 , train_acc: 0.9763 , val_loss: 0.0814 , val_acc: 0.9782\n",
            "CPU times: user 6min 33s, sys: 1.66 s, total: 6min 35s\n",
            "Wall time: 6min 41s\n"
          ]
        }
      ]
    },
    {
      "cell_type": "code",
      "source": [
        "model_c = to_device(MODEL3(), device)\n",
        "model_c"
      ],
      "metadata": {
        "colab": {
          "base_uri": "https://localhost:8080/"
        },
        "id": "LA1xb5FHEiwv",
        "outputId": "6797e89e-8629-49c8-be21-2336dcc22c78"
      },
      "execution_count": null,
      "outputs": [
        {
          "output_type": "execute_result",
          "data": {
            "text/plain": [
              "MODEL3(\n",
              "  (conv1): Conv2d(1, 10, kernel_size=(3, 3), stride=(1, 1))\n",
              "  (conv2): Conv2d(10, 48, kernel_size=(3, 3), stride=(1, 1))\n",
              "  (norm): BatchNorm2d(48, eps=1e-05, momentum=0.1, affine=True, track_running_stats=True)\n",
              "  (act): Sigmoid()\n",
              "  (pool1): MaxPool2d(kernel_size=2, stride=2, padding=0, dilation=1, ceil_mode=False)\n",
              "  (pool2): MaxPool2d(kernel_size=2, stride=2, padding=0, dilation=1, ceil_mode=False)\n",
              "  (classifier): Sequential(\n",
              "    (0): Flatten(start_dim=1, end_dim=-1)\n",
              "    (1): Dropout(p=0.2, inplace=False)\n",
              "    (2): Linear(in_features=1728, out_features=10, bias=True)\n",
              "  )\n",
              ")"
            ]
          },
          "metadata": {},
          "execution_count": 85
        }
      ]
    },
    {
      "cell_type": "code",
      "source": [
        "%%time\n",
        "tryc=fit2(args,model_c,train_loader,val_loader)"
      ],
      "metadata": {
        "colab": {
          "base_uri": "https://localhost:8080/"
        },
        "id": "UdluWB2nEli5",
        "outputId": "567bed10-7971-4021-c970-a2dce19cf9b1"
      },
      "execution_count": null,
      "outputs": [
        {
          "output_type": "stream",
          "name": "stdout",
          "text": [
            "Epoch [0], train_loss: 2.2683 , train_acc: 0.1565 , val_loss: 2.1386 , val_acc: 0.4196\n",
            "Epoch [1], train_loss: 1.8490 , train_acc: 0.4257 , val_loss: 1.3865 , val_acc: 0.6949\n",
            "Epoch [2], train_loss: 1.2118 , train_acc: 0.6410 , val_loss: 0.9436 , val_acc: 0.7550\n",
            "Epoch [3], train_loss: 0.9647 , train_acc: 0.7002 , val_loss: 0.7728 , val_acc: 0.7791\n",
            "Epoch [4], train_loss: 0.8775 , train_acc: 0.7252 , val_loss: 0.6739 , val_acc: 0.8213\n",
            "Epoch [5], train_loss: 0.8314 , train_acc: 0.7373 , val_loss: 0.6309 , val_acc: 0.8385\n",
            "Epoch [6], train_loss: 0.7976 , train_acc: 0.7469 , val_loss: 0.6024 , val_acc: 0.8442\n",
            "Epoch [7], train_loss: 0.7719 , train_acc: 0.7558 , val_loss: 0.5823 , val_acc: 0.8470\n",
            "Epoch [8], train_loss: 0.7605 , train_acc: 0.7603 , val_loss: 0.5715 , val_acc: 0.8509\n",
            "Epoch [9], train_loss: 0.7576 , train_acc: 0.7611 , val_loss: 0.5623 , val_acc: 0.8580\n",
            "CPU times: user 6min 30s, sys: 1.5 s, total: 6min 32s\n",
            "Wall time: 6min 47s\n"
          ]
        }
      ]
    },
    {
      "cell_type": "code",
      "source": [
        "def compare_train_losses():\n",
        "    train_losses_1 = [x.get('train_loss') for x in trya]\n",
        "    train_losses_2 = [x.get('train_loss') for x in tryb]\n",
        "    train_losses_3 = [x.get('train_loss') for x in tryc]\n",
        "\n",
        "    plt.plot(train_losses_1)\n",
        "    plt.plot(train_losses_2)\n",
        "    plt.plot(train_losses_3)\n",
        "\n",
        "    plt.xlabel('epoch')\n",
        "    plt.ylabel('loss')\n",
        "    plt.legend(['ReLU','Tanh','Sigmoid'])\n",
        "    plt.title('Training Loss vs. No. of epochs');\n",
        "\n",
        "def compare_val_losses():\n",
        "    val_losses_1 = [x.get('val_loss') for x in trya]\n",
        "    val_losses_2 = [x.get('val_loss') for x in tryb]\n",
        "    val_losses_3 = [x.get('val_loss') for x in tryc]\n",
        "\n",
        "    plt.plot(val_losses_1)\n",
        "    plt.plot(val_losses_2)\n",
        "    plt.plot(val_losses_3)\n",
        "\n",
        "    plt.xlabel('epoch')\n",
        "    plt.ylabel('loss')\n",
        "    plt.legend(['ReLU','Tanh','Sigmoid'])\n",
        "    plt.title('Val Loss vs. No. of epochs');\n",
        "\n",
        "def compare_train_accs():\n",
        "    val_acc_1 = [x.get('train_acc') for x in trya]\n",
        "    val_acc_2 = [x.get('train_acc') for x in tryb]\n",
        "    val_acc_3 = [x.get('train_acc') for x in tryc]\n",
        "\n",
        "    plt.plot(val_acc_1)\n",
        "    plt.plot(val_acc_2)\n",
        "    plt.plot(val_acc_3)\n",
        "\n",
        "    plt.xlabel('epoch')\n",
        "    plt.ylabel('loss')\n",
        "    plt.legend(['ReLU','Tanh','Sigmoid'])\n",
        "    plt.title('Train Accuracy vs. No. of epochs');\n",
        "\n",
        "def compare_val_accs():\n",
        "    val_acc_1 = [x.get('val_acc') for x in trya]\n",
        "    val_acc_2 = [x.get('val_acc') for x in tryb]\n",
        "    val_acc_3 = [x.get('val_acc') for x in tryc]\n",
        "\n",
        "    plt.plot(val_acc_1)\n",
        "    plt.plot(val_acc_2)\n",
        "    plt.plot(val_acc_3)\n",
        "\n",
        "    plt.xlabel('epoch')\n",
        "    plt.ylabel('loss')\n",
        "    plt.legend(['ReLU','Tanh','Sigmoid'])\n",
        "    plt.title('Val Accuracy vs. No. of epochs');"
      ],
      "metadata": {
        "id": "-mkgvmriGyU_"
      },
      "execution_count": null,
      "outputs": []
    },
    {
      "cell_type": "code",
      "source": [
        "compare_train_losses()"
      ],
      "metadata": {
        "colab": {
          "base_uri": "https://localhost:8080/",
          "height": 472
        },
        "id": "iugl4CD3IzmG",
        "outputId": "97df29b7-b9bd-4977-cd76-dc8d358c3352"
      },
      "execution_count": null,
      "outputs": [
        {
          "output_type": "display_data",
          "data": {
            "text/plain": [
              "<Figure size 640x480 with 1 Axes>"
            ],
            "image/png": "[encoded data removed]"
          },
          "metadata": {}
        }
      ]
    },
    {
      "cell_type": "code",
      "source": [
        "compare_val_losses()"
      ],
      "metadata": {
        "colab": {
          "base_uri": "https://localhost:8080/",
          "height": 472
        },
        "id": "dl-Bi2tHI0T5",
        "outputId": "c0e91a03-556f-47f1-d7c3-8c3887820884"
      },
      "execution_count": null,
      "outputs": [
        {
          "output_type": "display_data",
          "data": {
            "text/plain": [
              "<Figure size 640x480 with 1 Axes>"
            ],
            "image/png": "[encoded data removed]"
          },
          "metadata": {}
        }
      ]
    },
    {
      "cell_type": "code",
      "source": [
        "compare_train_accs()"
      ],
      "metadata": {
        "colab": {
          "base_uri": "https://localhost:8080/",
          "height": 472
        },
        "id": "_-8K4F0zI2Zb",
        "outputId": "caa0337f-d5cd-4ef7-bbab-f40761bab6f8"
      },
      "execution_count": null,
      "outputs": [
        {
          "output_type": "display_data",
          "data": {
            "text/plain": [
              "<Figure size 640x480 with 1 Axes>"
            ],
            "image/png": "[encoded data removed]"
          },
          "metadata": {}
        }
      ]
    },
    {
      "cell_type": "code",
      "source": [
        "compare_val_accs()"
      ],
      "metadata": {
        "colab": {
          "base_uri": "https://localhost:8080/",
          "height": 472
        },
        "id": "e2PY9MAYI3uK",
        "outputId": "6bd700a0-019c-4f9d-d858-98da1e0b05a9"
      },
      "execution_count": null,
      "outputs": [
        {
          "output_type": "display_data",
          "data": {
            "text/plain": [
              "<Figure size 640x480 with 1 Axes>"
            ],
            "image/png": "[encoded data removed]"
          },
          "metadata": {}
        }
      ]
    },
    {
      "cell_type": "markdown",
      "source": [
        "Conlusion-\n",
        "\n",
        "* sigmoid- not suitable for multi-class classification, actually it is only suitable for binary classification\n",
        "* tanh and relu give good results with relu being better due to its simple non-linearity inducing behaviour which leads to lower computations of gradients and non-saturation."
      ],
      "metadata": {
        "id": "dS08hI16KAnc"
      }
    }
  ]
}